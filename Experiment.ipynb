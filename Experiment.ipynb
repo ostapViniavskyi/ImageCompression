{
 "cells": [
  {
   "cell_type": "code",
   "execution_count": 1,
   "metadata": {},
   "outputs": [],
   "source": [
    "from image_compressor.svd_compressor import SVDCompressor\n",
    "from image_compressor.svd import svd\n",
    "from image_compressor.compressed import Compressed\n",
    "from image_compressor.evaluation import mse, psnr, pearson_correlation, cr"
   ]
  },
  {
   "cell_type": "code",
   "execution_count": 2,
   "metadata": {},
   "outputs": [],
   "source": [
    "# add metrics\n",
    "def er_score(image, U, singular_values, V, rank):\n",
    "    original_energy = np.sum(singular_values ** 2)\n",
    "    current_energy = np.sum(singular_values[:rank] ** 2)\n",
    "    return current_energy / original_energy\n",
    "\n",
    "def ssim_score(image, U, singular_values, V, rank):\n",
    "    L = 255\n",
    "    k1 = 0.01\n",
    "    k2 = 0.03\n",
    "    c1 = (k1 * L) ** 2\n",
    "    c2 = (k2 * L) ** 2\n",
    "    c3 = c2 / 2\n",
    "    \n",
    "    X = image\n",
    "    Y = (U[:, :rank] @ np.diag(singular_values[:rank]) @ V[:rank, :]).astype(np.float32)\n",
    "    mu1, mu2 = np.average(X), np.average(Y)\n",
    "    luminance = (2 * mu1 * mu2 + c1) / (mu1 ** 2 + mu2 ** 2 + c1)\n",
    "    std1, std2 = np.std(X), np.std(Y)\n",
    "    contrast = (2 * std1 * std2 + c2) / (std1 ** 2 + std2 ** 2 + c2)\n",
    "    covariance = np.matmul((X - mu1).flatten(), (Y - mu2).flatten()) / X.size\n",
    "    structure = (covariance + c3) / (std1 * std2 + c3)\n",
    "    return luminance * contrast * structure"
   ]
  },
  {
   "cell_type": "code",
   "execution_count": 3,
   "metadata": {},
   "outputs": [],
   "source": [
    "# update svd compressor that also take rank in function compress and return image, ssim and er\n",
    "class SVDCompressor_rank():\n",
    "    def compress(self, image, ranks):\n",
    "        image = image.astype(np.float32)\n",
    "        m, n = image.shape\n",
    "        transposed = False\n",
    "        if n > m:\n",
    "            image = image.T\n",
    "            transposed = True\n",
    "        U, S, V = svd(image)\n",
    "        if n > m:\n",
    "            U, V = V.T, U.T\n",
    "\n",
    "        singular_values = np.diag(S)\n",
    "        indexes = np.argsort(singular_values)[::-1]\n",
    "        U = U[:, indexes]\n",
    "        V = V[indexes, :]\n",
    "        singular_values = singular_values[indexes]\n",
    "        if transposed:\n",
    "            image = image.T\n",
    "            \n",
    "        if type(ranks) == list:\n",
    "            return [[Compressed(U[:, :rank], singular_values[:rank], V[:rank, :]), \\\n",
    "                    ssim_score(image, U, singular_values, V, rank), er_score(image, U, singular_values, V, rank)] for rank in ranks]\n",
    "        else:            \n",
    "            return Compressed(U[:, :ranks], singular_values[:ranks], V[:ranks, :]), \\\n",
    "                    ssim_score(image, U, singular_values, V, ranks), er_score(image, U, singular_values, V, ranks)"
   ]
  },
  {
   "cell_type": "markdown",
   "metadata": {},
   "source": [
    "# Experiments"
   ]
  },
  {
   "cell_type": "code",
   "execution_count": 4,
   "metadata": {},
   "outputs": [],
   "source": [
    "import numpy as np\n",
    "import pandas\n",
    "import cv2\n",
    "import matplotlib.pyplot as plt\n",
    "\n",
    "def compress_image(image, ranks):\n",
    "    compressor = SVDCompressor_rank()\n",
    "    compressor_data = compressor.compress(image, ranks)\n",
    "    return [[compressed.to_image(), compressed.get_effective_rank(), mse(image, compressed), psnr(image, compressed),\\\n",
    "            pearson_correlation(image, compressed), cr(image, compressed), ssim, er] for compressed, ssim, er in compressor_data]"
   ]
  },
  {
   "cell_type": "code",
   "execution_count": 5,
   "metadata": {},
   "outputs": [],
   "source": [
    "image = cv2.imread(\"image/barack_obama.jpg\")\n",
    "image = cv2.cvtColor(image, cv2.COLOR_BGR2GRAY)\n",
    "\n",
    "output = compress_image(image, [2**i for i in range(9)])\n",
    "table = pandas.DataFrame([i[1:] for i in output], columns = [\"Rank\", \"MSE\", \"PSNR\", \"PR\", \"CR\", \"SSIM\", \"ER\"])\n",
    "\n",
    "for i in range(len(output)):\n",
    "    cv2.imwrite(\"image/obama_compressed_{}.jpg\".format(output[i][1]), output[i][0])\n",
    "    "
   ]
  },
  {
   "cell_type": "code",
   "execution_count": 6,
   "metadata": {},
   "outputs": [
    {
     "data": {
      "text/html": [
       "<div>\n",
       "<style scoped>\n",
       "    .dataframe tbody tr th:only-of-type {\n",
       "        vertical-align: middle;\n",
       "    }\n",
       "\n",
       "    .dataframe tbody tr th {\n",
       "        vertical-align: top;\n",
       "    }\n",
       "\n",
       "    .dataframe thead th {\n",
       "        text-align: right;\n",
       "    }\n",
       "</style>\n",
       "<table border=\"1\" class=\"dataframe\">\n",
       "  <thead>\n",
       "    <tr style=\"text-align: right;\">\n",
       "      <th></th>\n",
       "      <th>Rank</th>\n",
       "      <th>MSE</th>\n",
       "      <th>PSNR</th>\n",
       "      <th>PR</th>\n",
       "      <th>CR</th>\n",
       "      <th>SSIM</th>\n",
       "      <th>ER</th>\n",
       "    </tr>\n",
       "  </thead>\n",
       "  <tbody>\n",
       "    <tr>\n",
       "      <th>0</th>\n",
       "      <td>1</td>\n",
       "      <td>0.2618</td>\n",
       "      <td>53.9518</td>\n",
       "      <td>0.5766</td>\n",
       "      <td>256.0</td>\n",
       "      <td>0.5106</td>\n",
       "      <td>0.7795</td>\n",
       "    </tr>\n",
       "    <tr>\n",
       "      <th>1</th>\n",
       "      <td>2</td>\n",
       "      <td>0.2463</td>\n",
       "      <td>54.2167</td>\n",
       "      <td>0.7203</td>\n",
       "      <td>128.0</td>\n",
       "      <td>0.6896</td>\n",
       "      <td>0.8411</td>\n",
       "    </tr>\n",
       "    <tr>\n",
       "      <th>2</th>\n",
       "      <td>4</td>\n",
       "      <td>0.2482</td>\n",
       "      <td>54.1821</td>\n",
       "      <td>0.8282</td>\n",
       "      <td>64.0</td>\n",
       "      <td>0.8142</td>\n",
       "      <td>0.8954</td>\n",
       "    </tr>\n",
       "    <tr>\n",
       "      <th>3</th>\n",
       "      <td>8</td>\n",
       "      <td>0.2487</td>\n",
       "      <td>54.1742</td>\n",
       "      <td>0.9042</td>\n",
       "      <td>32.0</td>\n",
       "      <td>0.9002</td>\n",
       "      <td>0.9395</td>\n",
       "    </tr>\n",
       "    <tr>\n",
       "      <th>4</th>\n",
       "      <td>16</td>\n",
       "      <td>0.2489</td>\n",
       "      <td>54.1710</td>\n",
       "      <td>0.9519</td>\n",
       "      <td>16.0</td>\n",
       "      <td>0.9508</td>\n",
       "      <td>0.9688</td>\n",
       "    </tr>\n",
       "    <tr>\n",
       "      <th>5</th>\n",
       "      <td>32</td>\n",
       "      <td>0.2393</td>\n",
       "      <td>54.3421</td>\n",
       "      <td>0.9800</td>\n",
       "      <td>8.0</td>\n",
       "      <td>0.9798</td>\n",
       "      <td>0.9868</td>\n",
       "    </tr>\n",
       "    <tr>\n",
       "      <th>6</th>\n",
       "      <td>64</td>\n",
       "      <td>0.2457</td>\n",
       "      <td>54.2266</td>\n",
       "      <td>0.9928</td>\n",
       "      <td>4.0</td>\n",
       "      <td>0.9928</td>\n",
       "      <td>0.9952</td>\n",
       "    </tr>\n",
       "    <tr>\n",
       "      <th>7</th>\n",
       "      <td>128</td>\n",
       "      <td>0.2583</td>\n",
       "      <td>54.0103</td>\n",
       "      <td>0.9978</td>\n",
       "      <td>2.0</td>\n",
       "      <td>0.9978</td>\n",
       "      <td>0.9986</td>\n",
       "    </tr>\n",
       "    <tr>\n",
       "      <th>8</th>\n",
       "      <td>256</td>\n",
       "      <td>0.2622</td>\n",
       "      <td>53.9445</td>\n",
       "      <td>0.9998</td>\n",
       "      <td>1.0</td>\n",
       "      <td>0.9998</td>\n",
       "      <td>0.9999</td>\n",
       "    </tr>\n",
       "  </tbody>\n",
       "</table>\n",
       "</div>"
      ],
      "text/plain": [
       "   Rank     MSE     PSNR      PR     CR    SSIM      ER\n",
       "0     1  0.2618  53.9518  0.5766  256.0  0.5106  0.7795\n",
       "1     2  0.2463  54.2167  0.7203  128.0  0.6896  0.8411\n",
       "2     4  0.2482  54.1821  0.8282   64.0  0.8142  0.8954\n",
       "3     8  0.2487  54.1742  0.9042   32.0  0.9002  0.9395\n",
       "4    16  0.2489  54.1710  0.9519   16.0  0.9508  0.9688\n",
       "5    32  0.2393  54.3421  0.9800    8.0  0.9798  0.9868\n",
       "6    64  0.2457  54.2266  0.9928    4.0  0.9928  0.9952\n",
       "7   128  0.2583  54.0103  0.9978    2.0  0.9978  0.9986\n",
       "8   256  0.2622  53.9445  0.9998    1.0  0.9998  0.9999"
      ]
     },
     "execution_count": 6,
     "metadata": {},
     "output_type": "execute_result"
    }
   ],
   "source": [
    "table1 = table.copy()\n",
    "float_columns = [\"MSE\", \"PSNR\", \"PR\", \"SSIM\", \"ER\"]\n",
    "for column in float_columns:\n",
    "    table1[column] = table1[column].apply(lambda x: round(x, 4))\n",
    "table1.to_csv(\"table.csv\", index= False)\n",
    "table1"
   ]
  },
  {
   "cell_type": "code",
   "execution_count": 7,
   "metadata": {},
   "outputs": [
    {
     "data": {
      "image/png": "[encoded data removed]",
      "text/plain": [
       "<Figure size 432x288 with 1 Axes>"
      ]
     },
     "metadata": {
      "needs_background": "light"
     },
     "output_type": "display_data"
    }
   ],
   "source": [
    "plot = table.plot(x=\"Rank\", y = \"CR\")"
   ]
  },
  {
   "cell_type": "code",
   "execution_count": 8,
   "metadata": {},
   "outputs": [
    {
     "data": {
      "image/png": "[encoded data removed]",
      "text/plain": [
       "<Figure size 432x288 with 1 Axes>"
      ]
     },
     "metadata": {
      "needs_background": "light"
     },
     "output_type": "display_data"
    }
   ],
   "source": [
    "plot = table.plot(x=\"Rank\", y = \"PSNR\")"
   ]
  },
  {
   "cell_type": "code",
   "execution_count": 10,
   "metadata": {},
   "outputs": [
    {
     "ename": "TypeError",
     "evalue": "'type' is an invalid keyword argument for array()",
     "output_type": "error",
     "traceback": [
      "\u001b[1;31m---------------------------------------------------------------------------\u001b[0m",
      "\u001b[1;31mTypeError\u001b[0m                                 Traceback (most recent call last)",
      "\u001b[1;32m<ipython-input-10-e8d8e12a9ece>\u001b[0m in \u001b[0;36m<module>\u001b[1;34m\u001b[0m\n\u001b[0;32m      3\u001b[0m     \u001b[1;32mreturn\u001b[0m \u001b[0msum\u001b[0m\u001b[1;33m(\u001b[0m\u001b[0msum\u001b[0m\u001b[1;33m(\u001b[0m\u001b[0mdifference\u001b[0m\u001b[1;33m)\u001b[0m\u001b[1;33m)\u001b[0m \u001b[1;33m/\u001b[0m \u001b[0mimage\u001b[0m\u001b[1;33m.\u001b[0m\u001b[0msize\u001b[0m\u001b[1;33m\u001b[0m\u001b[1;33m\u001b[0m\u001b[0m\n\u001b[0;32m      4\u001b[0m \u001b[1;33m\u001b[0m\u001b[0m\n\u001b[1;32m----> 5\u001b[1;33m \u001b[0mmse1\u001b[0m\u001b[1;33m(\u001b[0m\u001b[0mnp\u001b[0m\u001b[1;33m.\u001b[0m\u001b[0marray\u001b[0m\u001b[1;33m(\u001b[0m\u001b[1;33m[\u001b[0m\u001b[1;33m[\u001b[0m\u001b[1;36m1\u001b[0m\u001b[1;33m]\u001b[0m\u001b[1;33m,\u001b[0m \u001b[1;33m[\u001b[0m\u001b[1;36m2\u001b[0m\u001b[1;33m]\u001b[0m\u001b[1;33m]\u001b[0m\u001b[1;33m,\u001b[0m \u001b[0mtype\u001b[0m\u001b[1;33m=\u001b[0m\u001b[0mnp\u001b[0m\u001b[1;33m.\u001b[0m\u001b[0mfloat32\u001b[0m\u001b[1;33m)\u001b[0m\u001b[1;33m,\u001b[0m \u001b[0mnp\u001b[0m\u001b[1;33m.\u001b[0m\u001b[0marray\u001b[0m\u001b[1;33m(\u001b[0m\u001b[1;33m[\u001b[0m\u001b[1;33m[\u001b[0m\u001b[1;36m0\u001b[0m\u001b[1;33m]\u001b[0m\u001b[1;33m,\u001b[0m \u001b[1;33m[\u001b[0m\u001b[1;36m4\u001b[0m\u001b[1;33m]\u001b[0m\u001b[1;33m]\u001b[0m\u001b[1;33m)\u001b[0m\u001b[1;33m)\u001b[0m\u001b[1;33m\u001b[0m\u001b[1;33m\u001b[0m\u001b[0m\n\u001b[0m",
      "\u001b[1;31mTypeError\u001b[0m: 'type' is an invalid keyword argument for array()"
     ]
    }
   ],
   "source": [
    "def mse1(image, compressed_image):\n",
    "    difference = (image - compressed_image) ** 2\n",
    "    return sum(sum(difference)) / image.size\n",
    "\n",
    "mse1(np.array([[1], [2]], type=np.float32), np.array([[0], [4]]))"
   ]
  },
  {
   "cell_type": "code",
   "execution_count": null,
   "metadata": {},
   "outputs": [],
   "source": []
  }
 ],
 "metadata": {
  "kernelspec": {
   "display_name": "Python 3",
   "language": "python",
   "name": "python3"
  },
  "language_info": {
   "codemirror_mode": {
    "name": "ipython",
    "version": 3
   },
   "file_extension": ".py",
   "mimetype": "text/x-python",
   "name": "python",
   "nbconvert_exporter": "python",
   "pygments_lexer": "ipython3",
   "version": "3.7.3"
  }
 },
 "nbformat": 4,
 "nbformat_minor": 2
}
