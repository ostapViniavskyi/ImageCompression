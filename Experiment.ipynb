{
 "cells": [
  {
   "cell_type": "markdown",
   "metadata": {},
   "source": [
    "# Setup"
   ]
  },
  {
   "cell_type": "code",
   "execution_count": 1,
   "metadata": {},
   "outputs": [],
   "source": [
    "from image_compressor.svd_compressor import SVDCompressor\n",
    "from image_compressor.svd import svd\n",
    "from image_compressor.compressed import Compressed\n",
    "from image_compressor.evaluation import mse, psnr, pearson_correlation, cr"
   ]
  },
  {
   "cell_type": "code",
   "execution_count": 2,
   "metadata": {},
   "outputs": [],
   "source": [
    "# add metrics\n",
    "def er_score(image, U, singular_values, V, rank):\n",
    "    original_energy = np.sum(singular_values ** 2)\n",
    "    current_energy = np.sum(singular_values[:rank] ** 2)\n",
    "    return current_energy / original_energy\n",
    "\n",
    "def ssim_score(image, U, singular_values, V, rank, window_size=8):\n",
    "    decompressed = (U[:, :rank] @ np.diag(singular_values[:rank]) @ V[:rank, :]).astype(np.float32)\n",
    "    m, n = image.shape\n",
    "    simmilarity = 0\n",
    "    for y in range(0, m - window_size, window_size):\n",
    "        for x in range(0, n - window_size, window_size):\n",
    "            simmilarity += ssim_window(image[y:y + window_size, x:x + window_size],\n",
    "                                          decompressed[y:y + window_size, x:x + window_size])\n",
    "    windows_number = (m//window_size)*(n//window_size)\n",
    "    simmilarity /= windows_number\n",
    "    return simmilarity\n",
    "\n",
    "def ssim_window(X, Y):\n",
    "    L = 255\n",
    "    k1 = 0.01\n",
    "    k2 = 0.03\n",
    "    c1 = (k1 * L) ** 2\n",
    "    c2 = (k2 * L) ** 2\n",
    "    c3 = c2 / 2\n",
    "    \n",
    "    mu1, mu2 = np.average(X), np.average(Y)\n",
    "    luminance = (2 * mu1 * mu2 + c1) / (mu1 ** 2 + mu2 ** 2 + c1)\n",
    "    std1, std2 = np.std(X), np.std(Y)\n",
    "    contrast = (2 * std1 * std2 + c2) / (std1 ** 2 + std2 ** 2 + c2)\n",
    "    covariance = np.matmul((X - mu1).flatten(), (Y - mu2).flatten()) / X.size\n",
    "    structure = (covariance + c3) / (std1 * std2 + c3)\n",
    "    return luminance * contrast * structure"
   ]
  },
  {
   "cell_type": "code",
   "execution_count": 3,
   "metadata": {},
   "outputs": [],
   "source": [
    "# update svd compressor that also take rank in function compress and return image, ssim and er\n",
    "class SVDCompressor_rank():\n",
    "    def compress(self, image, ranks):\n",
    "        image = image.astype(np.float32)\n",
    "        m, n = image.shape\n",
    "        transposed = False\n",
    "        if n > m:\n",
    "            image = image.T\n",
    "            transposed = True\n",
    "        U, S, V = svd(image)\n",
    "        if n > m:\n",
    "            U, V = V.T, U.T\n",
    "\n",
    "        singular_values = np.diag(S)\n",
    "        indexes = np.argsort(singular_values)[::-1]\n",
    "        U = U[:, indexes]\n",
    "        V = V[indexes, :]\n",
    "        singular_values = singular_values[indexes]\n",
    "        if transposed:\n",
    "            image = image.T\n",
    "            \n",
    "        if type(ranks) == list:\n",
    "            return [[Compressed(U[:, :rank], singular_values[:rank], V[:rank, :]), \\\n",
    "                    ssim_score(image, U, singular_values, V, rank), er_score(image, U, singular_values, V, rank)] \\\n",
    "                    for rank in ranks]\n",
    "        else:            \n",
    "            return Compressed(U[:, :ranks], singular_values[:ranks], V[:ranks, :]), \\\n",
    "                    ssim_score(image, U, singular_values, V, ranks), er_score(image, U, singular_values, V, ranks)"
   ]
  },
  {
   "cell_type": "markdown",
   "metadata": {},
   "source": [
    "# Experiments"
   ]
  },
  {
   "cell_type": "code",
   "execution_count": null,
   "metadata": {},
   "outputs": [],
   "source": [
    "import numpy as np\n",
    "import pandas\n",
    "import cv2\n",
    "import matplotlib.pyplot as plt\n",
    "\n",
    "def compress_image(image, ranks):\n",
    "    compressor = SVDCompressor_rank()\n",
    "    compressor_data = compressor.compress(image, ranks)\n",
    "    return [[compressed.to_image(), compressed.get_effective_rank(), mse(image, compressed), psnr(image, compressed),\\\n",
    "            pearson_correlation(image, compressed), cr(image, compressed), ssim, er] for compressed, ssim, er in compressor_data]"
   ]
  },
  {
   "cell_type": "code",
   "execution_count": null,
   "metadata": {},
   "outputs": [],
   "source": [
    "# set ranks\n",
    "ranks = [2**i for i in range(9)]"
   ]
  },
  {
   "cell_type": "code",
   "execution_count": null,
   "metadata": {},
   "outputs": [],
   "source": [
    "image = cv2.imread(\"image/barack_obama.jpg\")\n",
    "image = cv2.cvtColor(image, cv2.COLOR_BGR2GRAY)\n",
    "cv2.imwrite(\"image/obama_512.jpg\", image)\n",
    "\n",
    "output = compress_image(image, ranks)\n",
    "table = pandas.DataFrame([i[1:] for i in output], columns = [\"Rank\", \"MSE\", \"PSNR\", \"PR\", \"CR\", \"SSIM\", \"ER\"])\n",
    "\n",
    "for i in range(len(output)):\n",
    "    cv2.imwrite(\"image/obama_compressed_{}.jpg\".format(output[i][1]), output[i][0])"
   ]
  },
  {
   "cell_type": "code",
   "execution_count": null,
   "metadata": {},
   "outputs": [],
   "source": [
    "# round dloats\n",
    "table1 = table.copy()\n",
    "# second item in tuple number of decimal places\n",
    "columns_to_digits = [(\"MSE\", 1), (\"PSNR\", 1), (\"PR\", 4), (\"SSIM\", 4), (\"ER\", 4), (\"CR\", 1)]\n",
    "\n",
    "for column, digits in columns_to_digits:\n",
    "    table1[column] = table1[column].apply(lambda x: round(x, digits)) if digits > 0 else \\\n",
    "                     table1[column].apply(lambda x: int(x))\n",
    "table1.to_csv(\"table.csv\", index= False)\n",
    "table1"
   ]
  },
  {
   "cell_type": "code",
   "execution_count": null,
   "metadata": {},
   "outputs": [],
   "source": [
    "# plot everything\n",
    "for column in [\"MSE\", \"PSNR\", \"PR\", \"CR\", \"SSIM\", \"ER\"]:\n",
    "    plt.plot(table[\"Rank\"], table[column])\n",
    "    plt.xlabel(\"Rank\")\n",
    "    plt.ylabel(column)\n",
    "    plt.xscale('log', basex=2)\n",
    "    plt.savefig(\"plots/{}_to_rank.jpg\".format(column.lower()))\n",
    "    plt.show()"
   ]
  }
 ],
 "metadata": {
  "kernelspec": {
   "display_name": "Python 3",
   "language": "python",
   "name": "python3"
  },
  "language_info": {
   "codemirror_mode": {
    "name": "ipython",
    "version": 3
   },
   "file_extension": ".py",
   "mimetype": "text/x-python",
   "name": "python",
   "nbconvert_exporter": "python",
   "pygments_lexer": "ipython3",
   "version": "3.7.3"
  }
 },
 "nbformat": 4,
 "nbformat_minor": 2
}
